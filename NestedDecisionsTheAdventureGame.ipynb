{
 "cells": [
  {
   "cell_type": "code",
   "execution_count": null,
   "metadata": {},
   "outputs": [],
   "source": [
    "# 1. Nested Decisions: The Adventure Game 🏰\n",
    "\n",
    "# Objective: To practice the use of nested if statements."
   ]
  },
  {
   "cell_type": "code",
   "execution_count": 2,
   "metadata": {},
   "outputs": [
    {
     "name": "stdout",
     "output_type": "stream",
     "text": [
      "You found a boat!\n"
     ]
    }
   ],
   "source": [
    "# Task 1: Code Correction \n",
    "\n",
    "# You are provided with a Python script that is supposed to guide a user through \n",
    "# an adventure game, but it has some errors. \n",
    "\n",
    "# Identify and fix them.\n",
    "\n",
    "# Buggy Code:\n",
    "\n",
    "# place = input(\"Choose a place: forest or cave? \")\n",
    "\n",
    "# if place = \"forest\":\n",
    "#     action = input(\"climb a tree or cross a river?\")\n",
    "#     if action = \"climb a tree\":\n",
    "#         print(\"You found a bird's nest!\")\n",
    "#     else action = \"cross a river\":\n",
    "#         print(\"You found a boat!\")\n",
    "# elif place = \"cave\":\n",
    "#     print(\"You find a hidden treasure!\")\n",
    "\n",
    "place = input(\"Choose a place: forest or cave? \")\n",
    "\n",
    "if place == \"forest\":\n",
    "    action = input(\"climb a tree or cross a river?\")\n",
    "    if action == \"climb a tree\":\n",
    "        print(\"You found a bird's nest!\")\n",
    "    else:\n",
    "        print(\"You found a boat!\")\n",
    "elif place == \"cave\":\n",
    "    print(\"You find a hidden treasure!\")"
   ]
  },
  {
   "cell_type": "code",
   "execution_count": 4,
   "metadata": {},
   "outputs": [
    {
     "name": "stdout",
     "output_type": "stream",
     "text": [
      "The darkness consumes you!\n"
     ]
    }
   ],
   "source": [
    "# Task 2: Setting the Scene\n",
    "\n",
    "# Based on your corrected code from Task 1, expand the game. \n",
    "# If the user chooses \"cave\", ask them if they want to \"light a torch\" or \n",
    "# \"proceed in the dark\", and provide outcomes for each decision.\n",
    "\n",
    "place = input(\"Choose a place: forest or cave? \")\n",
    "\n",
    "if place == \"forest\":\n",
    "    action = input(\"climb a tree or cross a river?\")\n",
    "    if action == \"climb a tree\":\n",
    "        print(\"You found a bird's nest!\")\n",
    "    else:\n",
    "        print(\"You found a boat!\")\n",
    "elif place == \"cave\":\n",
    "    cave_action = input(\"light a torch or proceed in the dark?\")\n",
    "    if cave_action == \"light a torch\":\n",
    "        print(\"You found treasure!\")\n",
    "    else:\n",
    "        print(\"The darkness consumes you!\")"
   ]
  },
  {
   "cell_type": "code",
   "execution_count": 9,
   "metadata": {},
   "outputs": [],
   "source": [
    "# Task 3: Default Path\n",
    "\n",
    "# If the user makes an invalid choice at any point, \n",
    "# incorporate a pass statement to handle it. \n",
    "\n",
    "# HINT: How can an else statement be of use here?\n",
    "\n",
    "place = input(\"Choose a place: forest or cave? \")\n",
    "\n",
    "if place == \"forest\":\n",
    "    action = input(\"climb a tree or cross a river?\")\n",
    "    if action == \"climb a tree\":\n",
    "        print(\"You found a bird's nest!\")\n",
    "    elif action == \"cross a river\":\n",
    "        print(\"You found a boat!\")\n",
    "    else:\n",
    "        pass\n",
    "elif place == \"cave\":\n",
    "    cave_action = input(\"light a torch or proceed in the dark?\")\n",
    "    if cave_action == \"light a torch\":\n",
    "        print(\"You found treasure!\")\n",
    "    elif cave_action == \"proceed in the dark\":\n",
    "        print(\"The darkness consumes you!\")\n",
    "    else:\n",
    "        pass\n",
    "else:\n",
    "    pass"
   ]
  },
  {
   "cell_type": "code",
   "execution_count": null,
   "metadata": {},
   "outputs": [],
   "source": []
  }
 ],
 "metadata": {
  "kernelspec": {
   "display_name": "Python 3",
   "language": "python",
   "name": "python3"
  },
  "language_info": {
   "codemirror_mode": {
    "name": "ipython",
    "version": 3
   },
   "file_extension": ".py",
   "mimetype": "text/x-python",
   "name": "python",
   "nbconvert_exporter": "python",
   "pygments_lexer": "ipython3",
   "version": "3.10.6"
  }
 },
 "nbformat": 4,
 "nbformat_minor": 2
}

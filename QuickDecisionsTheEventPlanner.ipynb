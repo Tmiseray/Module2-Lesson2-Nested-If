{
 "cells": [
  {
   "cell_type": "code",
   "execution_count": null,
   "metadata": {},
   "outputs": [],
   "source": [
    "# 2. Quick Decisions: The Event Planner 🎉\n",
    "\n",
    "# Objective: To practice the use of shorthand if statements."
   ]
  },
  {
   "cell_type": "code",
   "execution_count": 3,
   "metadata": {},
   "outputs": [
    {
     "name": "stdout",
     "output_type": "stream",
     "text": [
      "conference room\n"
     ]
    }
   ],
   "source": [
    "# Task 1: Code Correction \n",
    "\n",
    "# You are provided with a Python script that is supposed to help in event planning, \n",
    "# but it has errors. \n",
    "# Identify and fix them.\n",
    "\n",
    "# Buggy Code:\n",
    "\n",
    "# attendees = input(\"Enter number of attendees: \")\n",
    "# venue = \"large hall\" if attendees > 100 else \"conference room\"\n",
    "# print(venue)\n",
    "\n",
    "attendees = int(input(\"Enter number of attendees: \"))\n",
    "venue = \"Large hall\" if attendees > 100 else \"Conference room\"\n",
    "print(venue)"
   ]
  },
  {
   "cell_type": "code",
   "execution_count": 5,
   "metadata": {},
   "outputs": [
    {
     "name": "stdout",
     "output_type": "stream",
     "text": [
      "large hall with a multi-zone sound system and use a 13,000 lumen projector on a 16-foot screen\n"
     ]
    }
   ],
   "source": [
    "# Task 2: Venue Selection\n",
    "\n",
    "# Based on the corrected code from Task 1, \n",
    "# further enhance your code to recommend additional things like \n",
    "# \"audio system\" or \"projector\" based on the number of attendees.\n",
    "\n",
    "attendees = int(input(\"Enter number of attendees: \"))\n",
    "venue = \"Large hall\" if attendees > 100 else \"Conference room\"\n",
    "audio = \"with a multi-zone sound system\" if attendees > 100 else \"with a few large room speakers\"\n",
    "projector = \"and a 13,000 lumen projector\" if attendees > 100 else \"and a 5,000 lumen projector\"\n",
    "screen = \"on a 16-foot screen.\" if attendees > 100 else \"on an 8-foot screen.\"\n",
    "print(venue, audio, projector, screen)"
   ]
  },
  {
   "cell_type": "code",
   "execution_count": 10,
   "metadata": {},
   "outputs": [
    {
     "name": "stdout",
     "output_type": "stream",
     "text": [
      "Conference room with a few large room speakers and a 5,000 lumen projector on an 8-foot screen.\n",
      "The best option for catering is Veggie Delight Caterers.\n"
     ]
    }
   ],
   "source": [
    "# Task 3: Catering Choices\n",
    "\n",
    "# Ask the user if they want \"vegetarian\" food. \n",
    "# Recommend \"Veggie Delight Caterers\" if yes, \n",
    "# otherwise recommend \"Gourmet Meals Caterers\".\n",
    "\n",
    "attendees = int(input(\"Enter number of attendees: \"))\n",
    "venue = \"Large hall\" if attendees > 100 else \"Conference room\"\n",
    "audio = \"with a multi-zone sound system\" if attendees > 100 else \"with a few large room speakers\"\n",
    "projector = \"and a 13,000 lumen projector\" if attendees > 100 else \"and a 5,000 lumen projector\"\n",
    "screen = \"on a 16-foot screen.\" if attendees > 100 else \"on an 8-foot screen.\"\n",
    "food = input(\"Do you want the food to be Vegetarian? (yes/no)\")\n",
    "caterer = \"Veggie Delight Caterers\" if food == \"yes\" else \"Gourtmet Meals Caterers\"\n",
    "print(venue, audio, projector, screen)\n",
    "print(f\"The best option for catering is {caterer}.\")"
   ]
  },
  {
   "cell_type": "code",
   "execution_count": null,
   "metadata": {},
   "outputs": [],
   "source": []
  }
 ],
 "metadata": {
  "kernelspec": {
   "display_name": "Python 3",
   "language": "python",
   "name": "python3"
  },
  "language_info": {
   "codemirror_mode": {
    "name": "ipython",
    "version": 3
   },
   "file_extension": ".py",
   "mimetype": "text/x-python",
   "name": "python",
   "nbconvert_exporter": "python",
   "pygments_lexer": "ipython3",
   "version": "3.10.6"
  }
 },
 "nbformat": 4,
 "nbformat_minor": 2
}
